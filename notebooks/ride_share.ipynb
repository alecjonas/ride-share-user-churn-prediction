{
 "cells": [
  {
   "cell_type": "code",
   "execution_count": null,
   "metadata": {},
   "outputs": [],
   "source": [
    "import pandas as pd\n",
    "import numpy as np\n",
    "import datetime as dt\n",
    "import matplotlib.pyplot as plt\n",
    "\n",
    "def clean_data(path):\n",
    "    df = pd.read_csv(path)\n",
    "    df.dropna(inplace=True)\n",
    "    phone_df = pd.get_dummies(df['phone'])\n",
    "    city_df = pd.get_dummies(df['city'])\n",
    "    df['Astapor'] = city_df['Astapor']\n",
    "    df[\"King's Landing\"] = city_df[\"King's Landing\"]\n",
    "    df['Winterfell'] = city_df['Winterfell']\n",
    "    df['Android'] = phone_df['Android']\n",
    "    df['iPhone'] = phone_df['iPhone']\n",
    "    df.drop('phone',axis=1,inplace=True)\n",
    "    df.drop('city',axis=1,inplace=True)\n",
    "    df['signup_date'] = pd.to_datetime(df['signup_date'])\n",
    "    df['last_trip_date'] = pd.to_datetime(df['last_trip_date'])\n",
    "    df['active'] = df['last_trip_date'].apply(lambda x: x < pd.date_time('2014-06-01'))\n",
    "    return df"
   ]
  }
 ],
 "metadata": {
  "kernelspec": {
   "display_name": "Python 3",
   "language": "python",
   "name": "python3"
  },
  "language_info": {
   "codemirror_mode": {
    "name": "ipython",
    "version": 3
   },
   "file_extension": ".py",
   "mimetype": "text/x-python",
   "name": "python",
   "nbconvert_exporter": "python",
   "pygments_lexer": "ipython3",
   "version": "3.7.4"
  }
 },
 "nbformat": 4,
 "nbformat_minor": 2
}
